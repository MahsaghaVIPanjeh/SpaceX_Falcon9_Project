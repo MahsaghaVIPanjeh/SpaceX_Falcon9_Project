{
 "cells": [
  {
   "cell_type": "code",
   "execution_count": 1,
   "id": "c04b4f7b",
   "metadata": {},
   "outputs": [],
   "source": [
    "#import libraries\n",
    "import numpy as np\n",
    "import pandas as pd\n",
    "import matplotlib.pyplot as plt\n",
    "import seaborn as sns\n",
    "%matplotlib inline\n",
    "sns.set_style('whitegrid')\n",
    "from sklearn.model_selection import train_test_split\n",
    "from sklearn.preprocessing import StandardScaler\n",
    "from lazypredict.Supervised import LazyClassifier\n",
    "from sklearn.linear_model import LogisticRegression\n",
    "from sklearn.model_selection import GridSearchCV\n",
    "from sklearn.metrics import confusion_matrix,accuracy_score\n",
    "from sklearn.svm import SVC\n",
    "from sklearn.tree import DecisionTreeClassifier\n",
    "from sklearn.neighbors import KNeighborsClassifier"
   ]
  },
  {
   "cell_type": "code",
   "execution_count": 2,
   "id": "5daffa6f",
   "metadata": {},
   "outputs": [],
   "source": [
    "dataset_features = pd.read_csv('Falcon9_Dataset_Part3.csv')"
   ]
  },
  {
   "cell_type": "code",
   "execution_count": 3,
   "id": "d6225b0c",
   "metadata": {},
   "outputs": [],
   "source": [
    "dataset_target = pd.read_csv('Falcon9_Dataset_Part2.csv')"
   ]
  },
  {
   "cell_type": "code",
   "execution_count": 4,
   "id": "12039a6b",
   "metadata": {},
   "outputs": [],
   "source": [
    "Y = np.array(dataset_target['Class'])"
   ]
  },
  {
   "cell_type": "code",
   "execution_count": 5,
   "id": "6687474b",
   "metadata": {},
   "outputs": [
    {
     "data": {
      "text/plain": [
       "array([0, 0, 0, 0, 0, 0, 1, 1, 0, 0, 0, 0, 1, 0, 0, 0, 1, 0, 0, 1, 1, 1,\n",
       "       1, 1, 0, 1, 1, 0, 1, 1, 0, 1, 1, 1, 0, 1, 1, 1, 1, 1, 1, 1, 1, 1,\n",
       "       1, 0, 0, 0, 1, 1, 0, 0, 1, 1, 1, 1, 1, 1, 1, 0, 0, 1, 1, 1, 1, 1,\n",
       "       1, 0, 1, 1, 1, 1, 0, 1, 0, 1, 0, 1, 1, 1, 1, 1, 1, 1, 1, 1, 1, 1,\n",
       "       1, 1], dtype=int64)"
      ]
     },
     "execution_count": 5,
     "metadata": {},
     "output_type": "execute_result"
    }
   ],
   "source": [
    "Y"
   ]
  },
  {
   "cell_type": "code",
   "execution_count": 6,
   "id": "267d61bc",
   "metadata": {},
   "outputs": [],
   "source": [
    "X = dataset_features"
   ]
  },
  {
   "cell_type": "code",
   "execution_count": 7,
   "id": "d25cc19c",
   "metadata": {},
   "outputs": [],
   "source": [
    "#standardize the data\n",
    "sc = StandardScaler()\n",
    "X= sc.fit_transform(X)"
   ]
  },
  {
   "cell_type": "code",
   "execution_count": 8,
   "id": "339f3120",
   "metadata": {},
   "outputs": [],
   "source": [
    "#split dataset to train and test set\n",
    "X_train,X_test,Y_train,Y_test = train_test_split(X,Y,test_size=0.2,random_state=2)"
   ]
  },
  {
   "cell_type": "code",
   "execution_count": 9,
   "id": "c9910020",
   "metadata": {},
   "outputs": [
    {
     "data": {
      "text/plain": [
       "(72, 80)"
      ]
     },
     "execution_count": 9,
     "metadata": {},
     "output_type": "execute_result"
    }
   ],
   "source": [
    "X_train.shape"
   ]
  },
  {
   "cell_type": "code",
   "execution_count": 10,
   "id": "2db177e7",
   "metadata": {},
   "outputs": [
    {
     "data": {
      "text/plain": [
       "(18, 80)"
      ]
     },
     "execution_count": 10,
     "metadata": {},
     "output_type": "execute_result"
    }
   ],
   "source": [
    "X_test.shape"
   ]
  },
  {
   "cell_type": "code",
   "execution_count": 11,
   "id": "3af22242",
   "metadata": {},
   "outputs": [
    {
     "data": {
      "text/plain": [
       "(72,)"
      ]
     },
     "execution_count": 11,
     "metadata": {},
     "output_type": "execute_result"
    }
   ],
   "source": [
    "Y_train.shape"
   ]
  },
  {
   "cell_type": "code",
   "execution_count": 12,
   "id": "b42d99a0",
   "metadata": {},
   "outputs": [
    {
     "data": {
      "text/plain": [
       "(18,)"
      ]
     },
     "execution_count": 12,
     "metadata": {},
     "output_type": "execute_result"
    }
   ],
   "source": [
    "Y_test.shape"
   ]
  },
  {
   "cell_type": "code",
   "execution_count": 13,
   "id": "17e3b3b0",
   "metadata": {},
   "outputs": [],
   "source": [
    "#standardize the data\n",
    "#sc = StandardScaler()\n",
    "#X_train = sc.fit_transform(X_train)\n",
    "#X_test = sc.transform(X_test)"
   ]
  },
  {
   "cell_type": "code",
   "execution_count": 14,
   "id": "12315e0c",
   "metadata": {},
   "outputs": [
    {
     "name": "stderr",
     "output_type": "stream",
     "text": [
      "100%|██████████████████████████████████████████████████████████████████████████████████| 29/29 [00:00<00:00, 40.41it/s]\n"
     ]
    }
   ],
   "source": [
    "#train all models with lazypredict to see which model is best the we can improve that\n",
    "clf = LazyClassifier(verbose=0,ignore_warnings=True,custom_metric=None)\n",
    "models,predictions = clf.fit(X_train,X_test,Y_train,Y_test)"
   ]
  },
  {
   "cell_type": "code",
   "execution_count": 15,
   "id": "e1f4eafa",
   "metadata": {},
   "outputs": [
    {
     "name": "stdout",
     "output_type": "stream",
     "text": [
      "                               Accuracy  Balanced Accuracy  ROC AUC  F1 Score  \\\n",
      "Model                                                                           \n",
      "LGBMClassifier                     0.94               0.92     0.92      0.94   \n",
      "RidgeClassifier                    0.94               0.92     0.92      0.94   \n",
      "NuSVC                              0.89               0.88     0.87      0.89   \n",
      "XGBClassifier                      0.89               0.83     0.83      0.88   \n",
      "GaussianNB                         0.78               0.79     0.79      0.78   \n",
      "NearestCentroid                    0.78               0.79     0.79      0.78   \n",
      "LinearDiscriminantAnalysis         0.83               0.79     0.79      0.83   \n",
      "BernoulliNB                        0.83               0.75     0.75      0.81   \n",
      "SGDClassifier                      0.83               0.75     0.75      0.81   \n",
      "RidgeClassifierCV                  0.83               0.75     0.75      0.81   \n",
      "ExtraTreesClassifier               0.83               0.75     0.75      0.81   \n",
      "RandomForestClassifier             0.83               0.75     0.75      0.81   \n",
      "Perceptron                         0.83               0.75     0.75      0.81   \n",
      "BaggingClassifier                  0.83               0.75     0.75      0.81   \n",
      "LogisticRegression                 0.83               0.75     0.75      0.81   \n",
      "SVC                                0.78               0.71     0.71      0.76   \n",
      "AdaBoostClassifier                 0.78               0.71     0.71      0.76   \n",
      "ExtraTreeClassifier                0.78               0.71     0.71      0.76   \n",
      "PassiveAggressiveClassifier        0.72               0.67     0.67      0.72   \n",
      "LabelSpreading                     0.61               0.67     0.67      0.62   \n",
      "QuadraticDiscriminantAnalysis      0.61               0.67     0.67      0.62   \n",
      "LabelPropagation                   0.61               0.67     0.67      0.62   \n",
      "DecisionTreeClassifier             0.67               0.62     0.62      0.67   \n",
      "LinearSVC                          0.67               0.62     0.62      0.67   \n",
      "CalibratedClassifierCV             0.72               0.58     0.58      0.65   \n",
      "KNeighborsClassifier               0.67               0.50     0.50      0.53   \n",
      "DummyClassifier                    0.67               0.50     0.50      0.53   \n",
      "\n",
      "                               Time Taken  \n",
      "Model                                      \n",
      "LGBMClassifier                       0.04  \n",
      "RidgeClassifier                      0.02  \n",
      "NuSVC                                0.01  \n",
      "XGBClassifier                        0.06  \n",
      "GaussianNB                           0.02  \n",
      "NearestCentroid                      0.02  \n",
      "LinearDiscriminantAnalysis           0.00  \n",
      "BernoulliNB                          0.02  \n",
      "SGDClassifier                        0.01  \n",
      "RidgeClassifierCV                    0.03  \n",
      "ExtraTreesClassifier                 0.09  \n",
      "RandomForestClassifier               0.12  \n",
      "Perceptron                           0.01  \n",
      "BaggingClassifier                    0.02  \n",
      "LogisticRegression                   0.02  \n",
      "SVC                                  0.01  \n",
      "AdaBoostClassifier                   0.08  \n",
      "ExtraTreeClassifier                  0.00  \n",
      "PassiveAggressiveClassifier          0.01  \n",
      "LabelSpreading                       0.01  \n",
      "QuadraticDiscriminantAnalysis        0.02  \n",
      "LabelPropagation                     0.01  \n",
      "DecisionTreeClassifier               0.01  \n",
      "LinearSVC                            0.02  \n",
      "CalibratedClassifierCV               0.05  \n",
      "KNeighborsClassifier                 0.02  \n",
      "DummyClassifier                      0.01  \n"
     ]
    }
   ],
   "source": [
    "print(models)"
   ]
  },
  {
   "cell_type": "markdown",
   "id": "bd8a6249",
   "metadata": {},
   "source": [
    "### Conclusion: we can see these three models LGBMClassifier,RidgeClassifier and BernoulliNB has the best accuracy but in this project we want to train logistic regression,SVM,decision tree and KNN model and compare these models"
   ]
  },
  {
   "cell_type": "markdown",
   "id": "af7c6891",
   "metadata": {},
   "source": [
    "# Logistic Regression Model"
   ]
  },
  {
   "cell_type": "code",
   "execution_count": 16,
   "id": "5067194b",
   "metadata": {},
   "outputs": [
    {
     "name": "stdout",
     "output_type": "stream",
     "text": [
      "The best parameteres for Logistic regression are:{'C': 1, 'penalty': 'l2', 'solver': 'lbfgs'} and best accuracy score is 0.8214285714285714\n"
     ]
    }
   ],
   "source": [
    "#create a logistic regression object\n",
    "classifier_lr = LogisticRegression()\n",
    "#define parameters for logistic regression grid search\n",
    "params = {\n",
    "    'C':[0.01,0.1,1],\n",
    "    'penalty':['l2'],\n",
    "    'solver':['lbfgs']\n",
    "}\n",
    "#create a logistic regression grid search object\n",
    "logreg_cv = GridSearchCV(classifier_lr,\n",
    "                  param_grid=params,cv=10,scoring='accuracy')\n",
    "#train grid search object\n",
    "logreg_cv.fit(X_train,Y_train)\n",
    "#print best parameters and score for logistic regression\n",
    "print('The best parameteres for Logistic regression are:{x} and best accuracy score is {y}'.format(x=logreg_cv.best_params_,y=logreg_cv.best_score_))"
   ]
  },
  {
   "cell_type": "code",
   "execution_count": 17,
   "id": "ea49afb5",
   "metadata": {},
   "outputs": [
    {
     "name": "stdout",
     "output_type": "stream",
     "text": [
      "0.8333333333333334\n",
      "[[ 3  3]\n",
      " [ 0 12]]\n"
     ]
    }
   ],
   "source": [
    "#create logistic regression classifier object without best parameters\n",
    "classifier_lr_wo=LogisticRegression()\n",
    "#train classifier\n",
    "classifier_lr_wo.fit(X_train,Y_train)\n",
    "#predict values for test set\n",
    "Y_predict_wo = classifier_lr_wo.predict(X_test)\n",
    "# find and print accuracy in test set\n",
    "logisticregression_accuracy_wo = accuracy_score(Y_test,Y_predict_wo)\n",
    "print(logisticregression_accuracy_wo)\n",
    "#find and print confusion matrix\n",
    "logisticregression_matrix_wo=confusion_matrix(Y_test,Y_predict_wo)\n",
    "print(logisticregression_matrix_wo)"
   ]
  },
  {
   "cell_type": "code",
   "execution_count": 18,
   "id": "af03708a",
   "metadata": {},
   "outputs": [
    {
     "name": "stdout",
     "output_type": "stream",
     "text": [
      "0.8333333333333334\n",
      "[[ 3  3]\n",
      " [ 0 12]]\n"
     ]
    }
   ],
   "source": [
    "#create logistic regression classifier object with best parameters\n",
    "classifier_lr_w=LogisticRegression(C=0.1,penalty='l2',solver='lbfgs')\n",
    "#train classifier\n",
    "classifier_lr_w.fit(X_train,Y_train)\n",
    "#predict values for test set\n",
    "Y_predict_w = classifier_lr_w.predict(X_test)\n",
    "# find and print accuracy in test set\n",
    "logisticregression_accuracy_w = accuracy_score(Y_test,Y_predict_w)\n",
    "print(logisticregression_accuracy_w)\n",
    "#find and print confusion matrix\n",
    "logisticregression_matrix_w=confusion_matrix(Y_test,Y_predict_w)\n",
    "print(logisticregression_matrix_w)"
   ]
  },
  {
   "cell_type": "markdown",
   "id": "084e38c0",
   "metadata": {},
   "source": [
    "# Support Vector Machine(SVM)"
   ]
  },
  {
   "cell_type": "code",
   "execution_count": 19,
   "id": "d10cadac",
   "metadata": {},
   "outputs": [
    {
     "name": "stdout",
     "output_type": "stream",
     "text": [
      "The best parameteres for SVM are:{'C': 1.0, 'gamma': 0.03162277660168379, 'kernel': 'sigmoid'} and best accuracy score is 0.8482142857142858\n"
     ]
    }
   ],
   "source": [
    "# create a svm object\n",
    "svm_classifier = SVC()\n",
    "#create a parameters for SVM grid search\n",
    "params = {\n",
    "    'kernel':('linear','rbf','poly','sigmoid'),\n",
    "    'C':np.logspace(-3,3,5),\n",
    "    'gamma':np.logspace(-3,3,5)\n",
    "}\n",
    "# create a svm grid search object\n",
    "svm_cv = GridSearchCV(svm_classifier,\n",
    "                     param_grid=params,\n",
    "                     cv=10,\n",
    "                     )\n",
    "#train grid search object\n",
    "svm_cv.fit(X_train,Y_train)\n",
    "#find the best parameters and score\n",
    "print('The best parameteres for SVM are:{x} and best accuracy score is {y}'.format(x=svm_cv.best_params_,y=svm_cv.best_score_))"
   ]
  },
  {
   "cell_type": "code",
   "execution_count": 20,
   "id": "80e07f71",
   "metadata": {},
   "outputs": [
    {
     "name": "stdout",
     "output_type": "stream",
     "text": [
      "0.8888888888888888\n",
      "[[ 5  1]\n",
      " [ 1 11]]\n"
     ]
    }
   ],
   "source": [
    "#create svm object without best parameters\n",
    "svm_classifier_wo = SVC()\n",
    "#train classifier\n",
    "svm_classifier_wo.fit(X_train,Y_train)\n",
    "#predict values of test set\n",
    "Y_predict_wo=svm_classifier_wo.predict(X_test)\n",
    "#print accuracy\n",
    "svm_accuracy_wo = accuracy_score(Y_test,Y_predict_wo)\n",
    "print(svm_accuracy_wo)\n",
    "#print confusion matrix\n",
    "svm_matrix_wo = confusion_matrix(Y_test,Y_predict_wo)\n",
    "print(svm_matrix_wo)"
   ]
  },
  {
   "cell_type": "code",
   "execution_count": 42,
   "id": "3056ae46",
   "metadata": {},
   "outputs": [
    {
     "name": "stdout",
     "output_type": "stream",
     "text": [
      "0.8333333333333334\n",
      "[[ 3  3]\n",
      " [ 0 12]]\n"
     ]
    }
   ],
   "source": [
    "#create svm object with best parameters\n",
    "svm_classifier_w = SVC(C=1.0,gamma=0.032,kernel='sigmoid')\n",
    "#train classifier\n",
    "svm_classifier_w.fit(X_train,Y_train)\n",
    "#predict values of test set\n",
    "Y_predict_w=svm_classifier_w.predict(X_test)\n",
    "#print accuracy\n",
    "svm_accuracy_w = accuracy_score(Y_test,Y_predict_w)\n",
    "print(svm_accuracy_w)\n",
    "#print confusion matrix\n",
    "svm_matrix_w = confusion_matrix(Y_test,Y_predict_w)\n",
    "print(svm_matrix_w)"
   ]
  },
  {
   "cell_type": "code",
   "execution_count": 44,
   "id": "2b3a8893",
   "metadata": {},
   "outputs": [
    {
     "data": {
      "text/plain": [
       "array([1, 1, 1, 1, 1, 1, 1, 0, 0, 0, 0, 0, 1, 1, 1, 1, 0, 1], dtype=int64)"
      ]
     },
     "execution_count": 44,
     "metadata": {},
     "output_type": "execute_result"
    }
   ],
   "source": [
    "Y_test"
   ]
  },
  {
   "cell_type": "code",
   "execution_count": 43,
   "id": "20a1a653",
   "metadata": {},
   "outputs": [
    {
     "data": {
      "text/plain": [
       "array([1, 1, 1, 1, 1, 1, 1, 0, 1, 0, 0, 1, 1, 1, 1, 1, 1, 1], dtype=int64)"
      ]
     },
     "execution_count": 43,
     "metadata": {},
     "output_type": "execute_result"
    }
   ],
   "source": [
    "Y_predict_w"
   ]
  },
  {
   "cell_type": "code",
   "execution_count": 45,
   "id": "cacd8c36",
   "metadata": {},
   "outputs": [
    {
     "data": {
      "text/plain": [
       "<AxesSubplot: >"
      ]
     },
     "execution_count": 45,
     "metadata": {},
     "output_type": "execute_result"
    },
    {
     "data": {
      "image/png": "[encoded data removed]",
      "text/plain": [
       "<Figure size 640x480 with 1 Axes>"
      ]
     },
     "metadata": {},
     "output_type": "display_data"
    }
   ],
   "source": [
    "sns.heatmap(svm_matrix_w,annot=True,cbar=False)"
   ]
  },
  {
   "cell_type": "code",
   "execution_count": 46,
   "id": "b7739545",
   "metadata": {},
   "outputs": [],
   "source": [
    "#based on this heatmap for confusion matrix,we have 18 data in our test set. 12 out of 18 are positive and our model can predict all positive data correctly.\n",
    "#but 6 out of 18 are negative values and our model can predict only 3 of them correctly."
   ]
  },
  {
   "cell_type": "markdown",
   "id": "2553d2a1",
   "metadata": {},
   "source": [
    "# Decision Tree"
   ]
  },
  {
   "cell_type": "code",
   "execution_count": 22,
   "id": "7f22d270",
   "metadata": {},
   "outputs": [
    {
     "name": "stdout",
     "output_type": "stream",
     "text": [
      "The best parameteres for Decision Tree are:{'criterion': 'gini', 'max_depth': 16, 'max_features': 'sqrt', 'min_samples_leaf': 2, 'min_samples_split': 10, 'splitter': 'random'} and best accuracy score is 0.875\n"
     ]
    }
   ],
   "source": [
    "#create a object for decision tree \n",
    "decisiontree_classifier= DecisionTreeClassifier()\n",
    "#define parameters for decision tree grid search\n",
    "params={\n",
    "    'criterion':['gini','entropy'],\n",
    "    'splitter':['best','random'],\n",
    "    'max_depth':[2*n for n in range(1,10)],\n",
    "    'max_features':['auto','sqrt'],\n",
    "    'min_samples_leaf':[1,2,4],\n",
    "    'min_samples_split':[2,5,10]\n",
    "}\n",
    "#create a decision tree grid search object\n",
    "tree_cv = GridSearchCV(decisiontree_classifier,\n",
    "                      param_grid=params,\n",
    "                      cv=10,\n",
    "                      scoring='accuracy')\n",
    "#train grid search object with training set\n",
    "tree_cv.fit(X_train,Y_train)\n",
    "#print the best parameters and score\n",
    "print('The best parameteres for Decision Tree are:{x} and best accuracy score is {y}'.format(x=tree_cv.best_params_,y=tree_cv.best_score_))"
   ]
  },
  {
   "cell_type": "code",
   "execution_count": 23,
   "id": "6540e240",
   "metadata": {},
   "outputs": [
    {
     "name": "stdout",
     "output_type": "stream",
     "text": [
      "0.6666666666666666\n",
      "[[3 3]\n",
      " [3 9]]\n"
     ]
    }
   ],
   "source": [
    "#create a decision tree classifier without best parameters\n",
    "decisiontree_classifier_wo=DecisionTreeClassifier()\n",
    "#train decision tree classifer\n",
    "decisiontree_classifier_wo.fit(X_train,Y_train)\n",
    "#predict values for test set\n",
    "Y_predict_wo = decisiontree_classifier_wo.predict(X_test)\n",
    "#find and print accuracy \n",
    "decisiontree_accuracy_wo = accuracy_score(Y_test,Y_predict_wo)\n",
    "print(decisiontree_accuracy_wo)\n",
    "#find and print confusion matrix\n",
    "decisiontree_matrix_wo =confusion_matrix(Y_test,Y_predict_wo)\n",
    "print(decisiontree_matrix_wo)"
   ]
  },
  {
   "cell_type": "code",
   "execution_count": 24,
   "id": "24e92304",
   "metadata": {},
   "outputs": [
    {
     "name": "stdout",
     "output_type": "stream",
     "text": [
      "0.8333333333333334\n",
      "[[ 3  3]\n",
      " [ 0 12]]\n"
     ]
    }
   ],
   "source": [
    "#create a decision tree classifier with best parameters\n",
    "decisiontree_classifier_w=DecisionTreeClassifier(criterion='gini',max_depth=4,max_features='auto',min_samples_leaf=2,min_samples_split=5,splitter='best')\n",
    "#train decision tree classifer\n",
    "decisiontree_classifier_w.fit(X_train,Y_train)\n",
    "#predict values for test set\n",
    "Y_predict_w = decisiontree_classifier_w.predict(X_test)\n",
    "#find and print accuracy \n",
    "decisiontree_accuracy_w = accuracy_score(Y_test,Y_predict_w)\n",
    "print(decisiontree_accuracy_w)\n",
    "#find and print confusion matrix\n",
    "decisiontree_matrix_w =confusion_matrix(Y_test,Y_predict_w)\n",
    "print(decisiontree_matrix_w)"
   ]
  },
  {
   "cell_type": "markdown",
   "id": "39ca8ba8",
   "metadata": {},
   "source": [
    "# KNN"
   ]
  },
  {
   "cell_type": "code",
   "execution_count": 25,
   "id": "9065cb1c",
   "metadata": {},
   "outputs": [
    {
     "name": "stdout",
     "output_type": "stream",
     "text": [
      "The best parameteres for KNN are:{'algorithm': 'auto', 'n_neighbors': 8, 'p': 1} and best accuracy score is 0.8321428571428571\n"
     ]
    }
   ],
   "source": [
    "#create a KNN classifier object\n",
    "knn_classifier = KNeighborsClassifier()\n",
    "#define parameters for grid search\n",
    "params={\n",
    "    'n_neighbors':[1,2,3,4,5,6,7,8,9,10],\n",
    "    'algorithm':['auto','ball_tree','kd_tree','brute'],\n",
    "    'p':[1,2]\n",
    "}\n",
    "#create a knn grid search object\n",
    "knn_cv=GridSearchCV(knn_classifier,\n",
    "                   param_grid=params,\n",
    "                   cv=10)\n",
    "#train grid search object\n",
    "knn_cv.fit(X_train,Y_train)\n",
    "#print best parameters and best score\n",
    "print('The best parameteres for KNN are:{x} and best accuracy score is {y}'.format(x=knn_cv.best_params_,y=knn_cv.best_score_))"
   ]
  },
  {
   "cell_type": "code",
   "execution_count": 26,
   "id": "c2d57e52",
   "metadata": {},
   "outputs": [
    {
     "name": "stdout",
     "output_type": "stream",
     "text": [
      "0.6666666666666666\n",
      "[[ 0  6]\n",
      " [ 0 12]]\n"
     ]
    }
   ],
   "source": [
    "#create a knn classifier object without best parameters\n",
    "knn_classifier_wo = KNeighborsClassifier()\n",
    "#train classifier\n",
    "knn_classifier_wo.fit(X_train,Y_train)\n",
    "#predict values for test set\n",
    "Y_predict_wo=knn_classifier_wo.predict(X_test)\n",
    "#find and print accuracy\n",
    "knn_accuracy_wo = accuracy_score(Y_test,Y_predict_wo)\n",
    "print(knn_accuracy_wo)\n",
    "#find and print matrix\n",
    "knn_matrix_wo = confusion_matrix(Y_test,Y_predict_wo)\n",
    "print(knn_matrix_wo)"
   ]
  },
  {
   "cell_type": "code",
   "execution_count": 27,
   "id": "297696f5",
   "metadata": {},
   "outputs": [
    {
     "name": "stdout",
     "output_type": "stream",
     "text": [
      "0.8333333333333334\n",
      "[[ 3  3]\n",
      " [ 0 12]]\n"
     ]
    }
   ],
   "source": [
    "#create a knn classifier object with best parameters\n",
    "knn_classifier_w = KNeighborsClassifier(algorithm='auto',n_neighbors=8,p=1)\n",
    "#train classifier\n",
    "knn_classifier_w.fit(X_train,Y_train)\n",
    "#predict values for test set\n",
    "Y_predict_w=knn_classifier_w.predict(X_test)\n",
    "#find and print accuracy\n",
    "knn_accuracy_w = accuracy_score(Y_test,Y_predict_w)\n",
    "print(knn_accuracy_w)\n",
    "#find and print matrix\n",
    "knn_matrix_w = confusion_matrix(Y_test,Y_predict_w)\n",
    "print(knn_matrix_w)"
   ]
  },
  {
   "cell_type": "markdown",
   "id": "236c3b1e",
   "metadata": {},
   "source": [
    "# LGBMClassifier"
   ]
  },
  {
   "cell_type": "code",
   "execution_count": 28,
   "id": "e383237d",
   "metadata": {},
   "outputs": [],
   "source": [
    "import lightgbm as lgb"
   ]
  },
  {
   "cell_type": "code",
   "execution_count": 29,
   "id": "a9bfcce7",
   "metadata": {},
   "outputs": [
    {
     "name": "stdout",
     "output_type": "stream",
     "text": [
      "0.9444444444444444\n",
      "[[ 5  1]\n",
      " [ 0 12]]\n"
     ]
    }
   ],
   "source": [
    "lightgbm_classifier = lgb.LGBMClassifier(boosting_type='dart')\n",
    "lightgbm_classifier.fit(X_train,Y_train)\n",
    "Y_predict = lightgbm_classifier.predict(X_test)\n",
    "accur = accuracy_score(Y_test,Y_predict)\n",
    "print(accur)\n",
    "matr = confusion_matrix(Y_test,Y_predict)\n",
    "print(matr)"
   ]
  },
  {
   "cell_type": "markdown",
   "id": "9ca2d3dc",
   "metadata": {},
   "source": [
    "# Bar chart For Accuracy"
   ]
  },
  {
   "cell_type": "code",
   "execution_count": 31,
   "id": "4d7bed62",
   "metadata": {},
   "outputs": [],
   "source": [
    "accuracy_data_without_best_parameters = [[logisticregression_accuracy_wo],\n",
    "                 [svm_accuracy_wo],\n",
    "                 [decisiontree_accuracy_wo],\n",
    "                 [knn_accuracy_wo]]"
   ]
  },
  {
   "cell_type": "code",
   "execution_count": 32,
   "id": "52606a59",
   "metadata": {},
   "outputs": [],
   "source": [
    "accuracy_data_with_best_parameters = [[logisticregression_accuracy_w],\n",
    "                 [svm_accuracy_w],\n",
    "                 [decisiontree_accuracy_w],\n",
    "                 [knn_accuracy_w]]"
   ]
  },
  {
   "cell_type": "code",
   "execution_count": 33,
   "id": "582c7652",
   "metadata": {},
   "outputs": [],
   "source": [
    "accuracy_data_without_best_parameters = pd.DataFrame(accuracy_data_without_best_parameters,index=['logisticRegression','SVM','DecisionTree','KNN'],columns=['Accuracy'])"
   ]
  },
  {
   "cell_type": "code",
   "execution_count": 34,
   "id": "823eb647",
   "metadata": {},
   "outputs": [],
   "source": [
    "accuracy_data_with_best_parameters = pd.DataFrame(accuracy_data_with_best_parameters,index=['logisticRegression','SVM','DecisionTree','KNN'],columns=['Accuracy'])"
   ]
  },
  {
   "cell_type": "markdown",
   "id": "364df6bc",
   "metadata": {},
   "source": [
    "# Accuracy Rate without applying best parameters"
   ]
  },
  {
   "cell_type": "code",
   "execution_count": 36,
   "id": "79ca71e6",
   "metadata": {},
   "outputs": [
    {
     "data": {
      "text/plain": [
       "<AxesSubplot: ylabel='Accuracy'>"
      ]
     },
     "execution_count": 36,
     "metadata": {},
     "output_type": "execute_result"
    },
    {
     "data": {
      "image/png": "[encoded data removed]",
      "text/plain": [
       "<Figure size 640x480 with 1 Axes>"
      ]
     },
     "metadata": {},
     "output_type": "display_data"
    }
   ],
   "source": [
    "sns.barplot(x=accuracy_data_without_best_parameters.index,y=accuracy_data_without_best_parameters['Accuracy'])"
   ]
  },
  {
   "cell_type": "markdown",
   "id": "36b3e48f",
   "metadata": {},
   "source": [
    "# Accuracy Rate with applying best parameters"
   ]
  },
  {
   "cell_type": "code",
   "execution_count": 37,
   "id": "d8ee18b0",
   "metadata": {},
   "outputs": [
    {
     "data": {
      "text/plain": [
       "<AxesSubplot: ylabel='Accuracy'>"
      ]
     },
     "execution_count": 37,
     "metadata": {},
     "output_type": "execute_result"
    },
    {
     "data": {
      "image/png": "[encoded data removed]",
      "text/plain": [
       "<Figure size 640x480 with 1 Axes>"
      ]
     },
     "metadata": {},
     "output_type": "display_data"
    }
   ],
   "source": [
    "sns.barplot(x=accuracy_data_with_best_parameters.index,y=accuracy_data_with_best_parameters['Accuracy'])"
   ]
  }
 ],
 "metadata": {
  "kernelspec": {
   "display_name": "Python 3 (ipykernel)",
   "language": "python",
   "name": "python3"
  },
  "language_info": {
   "codemirror_mode": {
    "name": "ipython",
    "version": 3
   },
   "file_extension": ".py",
   "mimetype": "text/x-python",
   "name": "python",
   "nbconvert_exporter": "python",
   "pygments_lexer": "ipython3",
   "version": "3.9.12"
  }
 },
 "nbformat": 4,
 "nbformat_minor": 5
}
