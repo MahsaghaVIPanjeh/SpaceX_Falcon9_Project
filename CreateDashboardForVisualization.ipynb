{
 "cells": [
  {
   "cell_type": "code",
   "execution_count": 1,
   "id": "b7a34723",
   "metadata": {},
   "outputs": [
    {
     "name": "stderr",
     "output_type": "stream",
     "text": [
      "C:\\Users\\poya system\\AppData\\Local\\Temp\\ipykernel_3024\\2188557364.py:7: UserWarning: \n",
      "The dash_core_components package is deprecated. Please replace\n",
      "`import dash_core_components as dcc` with `from dash import dcc`\n",
      "  import dash_core_components as dcc\n",
      "C:\\Users\\poya system\\AppData\\Local\\Temp\\ipykernel_3024\\2188557364.py:8: UserWarning: \n",
      "The dash_html_components package is deprecated. Please replace\n",
      "`import dash_html_components as html` with `from dash import html`\n",
      "  import dash_html_components as html\n"
     ]
    }
   ],
   "source": [
    "#import libraries\n",
    "import numpy as np\n",
    "import pandas as pd\n",
    "import matplotlib.pyplot as plt\n",
    "import seaborn as sns\n",
    "import dash\n",
    "import dash_core_components as dcc\n",
    "import dash_html_components as html\n",
    "import plotly.graph_objects as go\n",
    "import plotly.express as px\n",
    "from dash.dependencies import Input,Output\n",
    "%matplotlib inline\n",
    "sns.set_style('whitegrid')"
   ]
  },
  {
   "cell_type": "code",
   "execution_count": 2,
   "id": "e68175e4",
   "metadata": {},
   "outputs": [],
   "source": [
    "dataset = pd.read_csv('spacex_launch_dash.csv')"
   ]
  },
  {
   "cell_type": "code",
   "execution_count": 3,
   "id": "af3ab307",
   "metadata": {},
   "outputs": [
    {
     "data": {
      "text/plain": [
       "Index(['Unnamed: 0', 'Flight Number', 'Launch Site', 'class',\n",
       "       'Payload Mass (kg)', 'Booster Version', 'Booster Version Category'],\n",
       "      dtype='object')"
      ]
     },
     "execution_count": 3,
     "metadata": {},
     "output_type": "execute_result"
    }
   ],
   "source": [
    "dataset.columns"
   ]
  },
  {
   "cell_type": "code",
   "execution_count": 4,
   "id": "2a04c5ed",
   "metadata": {},
   "outputs": [
    {
     "data": {
      "text/plain": [
       "array(['CCAFS LC-40', 'VAFB SLC-4E', 'KSC LC-39A', 'CCAFS SLC-40'],\n",
       "      dtype=object)"
      ]
     },
     "execution_count": 4,
     "metadata": {},
     "output_type": "execute_result"
    }
   ],
   "source": [
    "dataset['Launch Site'].unique()"
   ]
  },
  {
   "cell_type": "code",
   "execution_count": 5,
   "id": "33c10579",
   "metadata": {},
   "outputs": [],
   "source": [
    "app = dash.Dash(__name__)"
   ]
  },
  {
   "cell_type": "code",
   "execution_count": 6,
   "id": "47cae4bb",
   "metadata": {},
   "outputs": [],
   "source": [
    "DropDown_options = [{'label':'All Sites','value':'ALL'},{'label':'CCAFS SLC-40','value':'CCAFSSLC40'},{'label':'CCAFS LC-40','value':'CCAFSLC40'},{'label':'KSC LC-39A','value':'KSCLC39A'},{'label':'VAFB SLC-4E','value':'VAFBSLC4E'}]"
   ]
  },
  {
   "cell_type": "code",
   "execution_count": 7,
   "id": "f2a0d69e",
   "metadata": {},
   "outputs": [],
   "source": [
    "app.layout = html.Div(children=[\n",
    "    html.H1(\"SpaceX Launch Records Dashbord\",style={'textAlign':'center','color':'#503D36','font-size':50}),\n",
    "    html.Div([html.H4(\"Launch Site:\",style={'color':'#503D36','font-size':35}),\n",
    "    dcc.Dropdown(id='site-dropdown',\n",
    "                options=DropDown_options,\n",
    "                value='ALL',\n",
    "                placeholder='Please Select Launch Site: ',\n",
    "                searchable=True,style={'color':'#503D36','font-size':25})\n",
    "    ]),\n",
    "    html.Br(),\n",
    "    html.Br(),\n",
    "    html.Div(dcc.Graph(id ='success-pie-chart')),\n",
    "    html.Br(),\n",
    "    html.Br(),\n",
    "    html.Div([\n",
    "        html.H4(\"PayLoad:\",style={'color':'#503D36','font-size':35}),\n",
    "        dcc.RangeSlider(id='payload-slider',\n",
    "                        min=0,max=10000,step=1000,\n",
    "                        value=[dataset['Payload Mass (kg)'].min(),dataset['Payload Mass (kg)'].max()])\n",
    "    ]),\n",
    "    html.Br(),\n",
    "    html.Br(),\n",
    "    html.Div(dcc.Graph(id='success-payload-scatter-chart'))\n",
    "])"
   ]
  },
  {
   "cell_type": "code",
   "execution_count": 8,
   "id": "97d3a5f1",
   "metadata": {},
   "outputs": [],
   "source": [
    "#payloadrange_df=filtered_dataset[(filtered_dataset['Payload Mass (kg)']>=payload_range[0]) & (filtered_dataset['Payload Mass (kg)']<=payload_range[1])]\n",
    "#fig2=px.scatter(payloadrange_df,x='PayloadMass',y='class',color='Booster Version Category')"
   ]
  },
  {
   "cell_type": "code",
   "execution_count": 9,
   "id": "dbd7a3ed",
   "metadata": {},
   "outputs": [],
   "source": [
    "@app.callback([Output(component_id='success-pie-chart',component_property='figure'),\n",
    "              Output(component_id='success-payload-scatter-chart',component_property='figure')],\n",
    "             [Input(component_id='site-dropdown',component_property='value'),\n",
    "             Input(component_id='payload-slider',component_property='value')]\n",
    "             )\n",
    "def get_pie_chart(selected_launch_site,selected_range):\n",
    "    filtered_dataset = dataset\n",
    "    if selected_launch_site=='ALL':\n",
    "        dataframe=filtered_dataset[(filtered_dataset['Payload Mass (kg)']>=selected_range[0]) & (filtered_dataset['Payload Mass (kg)']<=selected_range[1])]\n",
    "        fig1=px.pie(dataframe,names='Launch Site',values='class',title='All Launch Site Success Pie Chart')\n",
    "        fig2=px.scatter(dataframe,x='Payload Mass (kg)',y='class',color='Booster Version Category')\n",
    "        return [fig1,fig2]\n",
    "    elif selected_launch_site=='CCAFSSLC40':\n",
    "        dataframe=filtered_dataset[filtered_dataset['Launch Site']=='CCAFS SLC-40']\n",
    "        dataframe=dataframe[(dataframe['Payload Mass (kg)']>=selected_range[0]) & (dataframe['Payload Mass (kg)']<=selected_range[1])]\n",
    "        fig1=px.pie(dataframe,names='class',title='CCAFS SLC-40 Success Pie Chart')\n",
    "        fig2=px.scatter(dataframe,x='Payload Mass (kg)',y='class',color='Booster Version Category')\n",
    "        return [fig1,fig2]\n",
    "    elif selected_launch_site=='CCAFSLC40':\n",
    "        dataframe=filtered_dataset[filtered_dataset['Launch Site']=='CCAFS LC-40']\n",
    "        dataframe=dataframe[(dataframe['Payload Mass (kg)']>=selected_range[0]) & (dataframe['Payload Mass (kg)']<=selected_range[1])]\n",
    "        fig1=px.pie(dataframe,names='class',title='CCAFS LC-40 Success Pie Chart')\n",
    "        fig2=px.scatter(dataframe,x='Payload Mass (kg)',y='class',color='Booster Version Category')\n",
    "        return [fig1,fig2]\n",
    "    elif selected_launch_site=='KSCLC39A':\n",
    "        dataframe=filtered_dataset[filtered_dataset['Launch Site']=='KSC LC-39A']\n",
    "        dataframe=dataframe[(dataframe['Payload Mass (kg)']>=selected_range[0]) & (dataframe['Payload Mass (kg)']<=selected_range[1])]\n",
    "        fig1=px.pie(dataframe,names='class',color='class',title='KSC LC-39A Success Pie Chart')\n",
    "        fig2=px.scatter(dataframe,x='Payload Mass (kg)',y='class',color='Booster Version Category')\n",
    "        return [fig1,fig2]\n",
    "    elif selected_launch_site=='VAFBSLC4E':\n",
    "        dataframe=filtered_dataset[filtered_dataset['Launch Site']=='VAFB SLC-4E']\n",
    "        dataframe=dataframe[(dataframe['Payload Mass (kg)']>=selected_range[0]) & (dataframe['Payload Mass (kg)']<=selected_range[1])]\n",
    "        fig1=px.pie(dataframe,names='class',color='class',title='VAFB SLC-4E Success Pie Chart')\n",
    "        fig2=px.scatter(dataframe,x='Payload Mass (kg)',y='class',color='Booster Version Category')\n",
    "        return [fig1,fig2]"
   ]
  },
  {
   "cell_type": "code",
   "execution_count": null,
   "id": "f5a73c76",
   "metadata": {},
   "outputs": [
    {
     "name": "stdout",
     "output_type": "stream",
     "text": [
      "Dash is running on http://127.0.0.1:8050/\n",
      "\n",
      " * Serving Flask app \"__main__\" (lazy loading)\n",
      " * Environment: production\n",
      "\u001b[31m   WARNING: This is a development server. Do not use it in a production deployment.\u001b[0m\n",
      "\u001b[2m   Use a production WSGI server instead.\u001b[0m\n",
      " * Debug mode: off\n"
     ]
    },
    {
     "name": "stderr",
     "output_type": "stream",
     "text": [
      " * Running on http://127.0.0.1:8050/ (Press CTRL+C to quit)\n",
      "127.0.0.1 - - [25/Feb/2023 11:26:46] \"GET / HTTP/1.1\" 200 -\n",
      "127.0.0.1 - - [25/Feb/2023 11:26:46] \"GET /_dash-layout HTTP/1.1\" 200 -\n",
      "127.0.0.1 - - [25/Feb/2023 11:26:46] \"GET /_dash-dependencies HTTP/1.1\" 200 -\n",
      "127.0.0.1 - - [25/Feb/2023 11:26:46] \"GET /_dash-component-suites/dash/dcc/async-dropdown.js HTTP/1.1\" 200 -\n",
      "127.0.0.1 - - [25/Feb/2023 11:26:46] \"GET /_dash-component-suites/dash/dcc/async-graph.js HTTP/1.1\" 200 -\n",
      "127.0.0.1 - - [25/Feb/2023 11:26:46] \"GET /_dash-component-suites/dash/dcc/async-slider.js HTTP/1.1\" 200 -\n",
      "127.0.0.1 - - [25/Feb/2023 11:26:46] \"GET /_dash-component-suites/dash/dcc/async-plotlyjs.js HTTP/1.1\" 200 -\n",
      "127.0.0.1 - - [25/Feb/2023 11:26:47] \"POST /_dash-update-component HTTP/1.1\" 200 -\n",
      "127.0.0.1 - - [25/Feb/2023 11:28:06] \"POST /_dash-update-component HTTP/1.1\" 200 -\n",
      "127.0.0.1 - - [25/Feb/2023 11:28:08] \"POST /_dash-update-component HTTP/1.1\" 200 -\n",
      "127.0.0.1 - - [25/Feb/2023 11:28:12] \"POST /_dash-update-component HTTP/1.1\" 200 -\n",
      "127.0.0.1 - - [25/Feb/2023 11:28:15] \"POST /_dash-update-component HTTP/1.1\" 200 -\n",
      "127.0.0.1 - - [25/Feb/2023 11:28:17] \"POST /_dash-update-component HTTP/1.1\" 200 -\n",
      "127.0.0.1 - - [25/Feb/2023 11:28:19] \"POST /_dash-update-component HTTP/1.1\" 200 -\n",
      "127.0.0.1 - - [25/Feb/2023 11:28:24] \"POST /_dash-update-component HTTP/1.1\" 200 -\n",
      "127.0.0.1 - - [25/Feb/2023 11:28:26] \"POST /_dash-update-component HTTP/1.1\" 200 -\n",
      "127.0.0.1 - - [25/Feb/2023 11:29:06] \"POST /_dash-update-component HTTP/1.1\" 200 -\n",
      "127.0.0.1 - - [25/Feb/2023 11:29:08] \"POST /_dash-update-component HTTP/1.1\" 200 -\n",
      "127.0.0.1 - - [25/Feb/2023 11:29:15] \"POST /_dash-update-component HTTP/1.1\" 200 -\n",
      "127.0.0.1 - - [25/Feb/2023 11:29:17] \"POST /_dash-update-component HTTP/1.1\" 200 -\n",
      "127.0.0.1 - - [25/Feb/2023 11:29:43] \"POST /_dash-update-component HTTP/1.1\" 200 -\n",
      "127.0.0.1 - - [25/Feb/2023 11:29:45] \"POST /_dash-update-component HTTP/1.1\" 200 -\n",
      "127.0.0.1 - - [25/Feb/2023 11:29:48] \"POST /_dash-update-component HTTP/1.1\" 200 -\n",
      "127.0.0.1 - - [25/Feb/2023 11:29:56] \"POST /_dash-update-component HTTP/1.1\" 200 -\n",
      "127.0.0.1 - - [25/Feb/2023 11:30:00] \"POST /_dash-update-component HTTP/1.1\" 200 -\n",
      "127.0.0.1 - - [25/Feb/2023 11:30:04] \"POST /_dash-update-component HTTP/1.1\" 200 -\n",
      "127.0.0.1 - - [25/Feb/2023 11:30:08] \"POST /_dash-update-component HTTP/1.1\" 200 -\n",
      "127.0.0.1 - - [25/Feb/2023 11:30:12] \"POST /_dash-update-component HTTP/1.1\" 200 -\n",
      "127.0.0.1 - - [25/Feb/2023 11:30:16] \"POST /_dash-update-component HTTP/1.1\" 200 -\n",
      "127.0.0.1 - - [25/Feb/2023 11:30:20] \"POST /_dash-update-component HTTP/1.1\" 200 -\n",
      "127.0.0.1 - - [25/Feb/2023 11:30:22] \"POST /_dash-update-component HTTP/1.1\" 200 -\n",
      "127.0.0.1 - - [25/Feb/2023 11:30:26] \"POST /_dash-update-component HTTP/1.1\" 200 -\n",
      "127.0.0.1 - - [25/Feb/2023 11:30:30] \"POST /_dash-update-component HTTP/1.1\" 200 -\n",
      "127.0.0.1 - - [25/Feb/2023 11:30:32] \"POST /_dash-update-component HTTP/1.1\" 200 -\n",
      "127.0.0.1 - - [25/Feb/2023 11:30:34] \"POST /_dash-update-component HTTP/1.1\" 200 -\n",
      "127.0.0.1 - - [25/Feb/2023 11:30:36] \"POST /_dash-update-component HTTP/1.1\" 200 -\n",
      "127.0.0.1 - - [25/Feb/2023 11:30:41] \"POST /_dash-update-component HTTP/1.1\" 200 -\n",
      "127.0.0.1 - - [25/Feb/2023 11:30:44] \"POST /_dash-update-component HTTP/1.1\" 200 -\n",
      "127.0.0.1 - - [25/Feb/2023 11:30:54] \"POST /_dash-update-component HTTP/1.1\" 200 -\n",
      "127.0.0.1 - - [25/Feb/2023 11:30:59] \"POST /_dash-update-component HTTP/1.1\" 200 -\n",
      "127.0.0.1 - - [25/Feb/2023 11:31:03] \"POST /_dash-update-component HTTP/1.1\" 200 -\n",
      "127.0.0.1 - - [25/Feb/2023 11:31:05] \"POST /_dash-update-component HTTP/1.1\" 200 -\n",
      "127.0.0.1 - - [25/Feb/2023 11:31:09] \"POST /_dash-update-component HTTP/1.1\" 200 -\n",
      "127.0.0.1 - - [25/Feb/2023 11:31:17] \"POST /_dash-update-component HTTP/1.1\" 200 -\n",
      "127.0.0.1 - - [25/Feb/2023 11:31:22] \"POST /_dash-update-component HTTP/1.1\" 200 -\n",
      "127.0.0.1 - - [25/Feb/2023 11:31:44] \"POST /_dash-update-component HTTP/1.1\" 200 -\n",
      "127.0.0.1 - - [25/Feb/2023 11:31:49] \"POST /_dash-update-component HTTP/1.1\" 200 -\n",
      "127.0.0.1 - - [25/Feb/2023 11:31:56] \"POST /_dash-update-component HTTP/1.1\" 200 -\n",
      "127.0.0.1 - - [25/Feb/2023 11:32:00] \"POST /_dash-update-component HTTP/1.1\" 200 -\n",
      "127.0.0.1 - - [25/Feb/2023 11:32:04] \"POST /_dash-update-component HTTP/1.1\" 200 -\n",
      "127.0.0.1 - - [25/Feb/2023 11:32:09] \"POST /_dash-update-component HTTP/1.1\" 200 -\n",
      "127.0.0.1 - - [25/Feb/2023 11:32:11] \"POST /_dash-update-component HTTP/1.1\" 200 -\n",
      "127.0.0.1 - - [25/Feb/2023 11:32:14] \"POST /_dash-update-component HTTP/1.1\" 200 -\n",
      "127.0.0.1 - - [25/Feb/2023 11:32:25] \"POST /_dash-update-component HTTP/1.1\" 200 -\n",
      "127.0.0.1 - - [25/Feb/2023 11:32:41] \"POST /_dash-update-component HTTP/1.1\" 200 -\n",
      "127.0.0.1 - - [25/Feb/2023 11:32:50] \"POST /_dash-update-component HTTP/1.1\" 200 -\n",
      "127.0.0.1 - - [25/Feb/2023 11:32:52] \"POST /_dash-update-component HTTP/1.1\" 200 -\n",
      "127.0.0.1 - - [25/Feb/2023 11:33:00] \"POST /_dash-update-component HTTP/1.1\" 200 -\n",
      "127.0.0.1 - - [25/Feb/2023 11:33:02] \"POST /_dash-update-component HTTP/1.1\" 200 -\n",
      "127.0.0.1 - - [25/Feb/2023 11:33:04] \"POST /_dash-update-component HTTP/1.1\" 200 -\n",
      "127.0.0.1 - - [25/Feb/2023 11:33:07] \"POST /_dash-update-component HTTP/1.1\" 200 -\n",
      "127.0.0.1 - - [25/Feb/2023 11:33:11] \"POST /_dash-update-component HTTP/1.1\" 200 -\n",
      "127.0.0.1 - - [25/Feb/2023 11:33:16] \"POST /_dash-update-component HTTP/1.1\" 200 -\n",
      "127.0.0.1 - - [25/Feb/2023 11:33:19] \"POST /_dash-update-component HTTP/1.1\" 200 -\n",
      "127.0.0.1 - - [25/Feb/2023 11:33:21] \"POST /_dash-update-component HTTP/1.1\" 200 -\n",
      "127.0.0.1 - - [25/Feb/2023 11:33:25] \"POST /_dash-update-component HTTP/1.1\" 200 -\n",
      "127.0.0.1 - - [25/Feb/2023 11:33:32] \"POST /_dash-update-component HTTP/1.1\" 200 -\n",
      "127.0.0.1 - - [25/Feb/2023 11:33:40] \"POST /_dash-update-component HTTP/1.1\" 200 -\n",
      "127.0.0.1 - - [25/Feb/2023 11:33:43] \"POST /_dash-update-component HTTP/1.1\" 200 -\n",
      "127.0.0.1 - - [25/Feb/2023 11:33:45] \"POST /_dash-update-component HTTP/1.1\" 200 -\n",
      "127.0.0.1 - - [25/Feb/2023 11:33:47] \"POST /_dash-update-component HTTP/1.1\" 200 -\n",
      "127.0.0.1 - - [25/Feb/2023 11:33:49] \"POST /_dash-update-component HTTP/1.1\" 200 -\n",
      "127.0.0.1 - - [25/Feb/2023 11:33:51] \"POST /_dash-update-component HTTP/1.1\" 200 -\n",
      "127.0.0.1 - - [25/Feb/2023 11:33:54] \"POST /_dash-update-component HTTP/1.1\" 200 -\n",
      "127.0.0.1 - - [25/Feb/2023 11:34:00] \"POST /_dash-update-component HTTP/1.1\" 200 -\n",
      "127.0.0.1 - - [25/Feb/2023 11:34:03] \"POST /_dash-update-component HTTP/1.1\" 200 -\n",
      "127.0.0.1 - - [25/Feb/2023 11:34:07] \"POST /_dash-update-component HTTP/1.1\" 200 -\n",
      "127.0.0.1 - - [25/Feb/2023 11:34:09] \"POST /_dash-update-component HTTP/1.1\" 200 -\n",
      "127.0.0.1 - - [25/Feb/2023 11:34:11] \"POST /_dash-update-component HTTP/1.1\" 200 -\n",
      "127.0.0.1 - - [25/Feb/2023 11:34:27] \"POST /_dash-update-component HTTP/1.1\" 200 -\n",
      "127.0.0.1 - - [25/Feb/2023 11:34:34] \"POST /_dash-update-component HTTP/1.1\" 200 -\n",
      "127.0.0.1 - - [25/Feb/2023 11:34:38] \"POST /_dash-update-component HTTP/1.1\" 200 -\n",
      "127.0.0.1 - - [25/Feb/2023 11:34:47] \"POST /_dash-update-component HTTP/1.1\" 200 -\n",
      "127.0.0.1 - - [25/Feb/2023 11:34:49] \"POST /_dash-update-component HTTP/1.1\" 200 -\n",
      "127.0.0.1 - - [25/Feb/2023 11:34:50] \"POST /_dash-update-component HTTP/1.1\" 200 -\n",
      "127.0.0.1 - - [25/Feb/2023 11:34:52] \"POST /_dash-update-component HTTP/1.1\" 200 -\n",
      "127.0.0.1 - - [25/Feb/2023 11:34:55] \"POST /_dash-update-component HTTP/1.1\" 200 -\n",
      "127.0.0.1 - - [25/Feb/2023 11:34:57] \"POST /_dash-update-component HTTP/1.1\" 200 -\n",
      "127.0.0.1 - - [25/Feb/2023 11:35:00] \"POST /_dash-update-component HTTP/1.1\" 200 -\n",
      "127.0.0.1 - - [25/Feb/2023 11:35:05] \"POST /_dash-update-component HTTP/1.1\" 200 -\n",
      "127.0.0.1 - - [25/Feb/2023 11:35:08] \"POST /_dash-update-component HTTP/1.1\" 200 -\n",
      "127.0.0.1 - - [25/Feb/2023 11:35:11] \"POST /_dash-update-component HTTP/1.1\" 200 -\n",
      "127.0.0.1 - - [25/Feb/2023 11:35:13] \"POST /_dash-update-component HTTP/1.1\" 200 -\n",
      "127.0.0.1 - - [25/Feb/2023 11:35:15] \"POST /_dash-update-component HTTP/1.1\" 200 -\n",
      "127.0.0.1 - - [25/Feb/2023 11:35:18] \"POST /_dash-update-component HTTP/1.1\" 200 -\n",
      "127.0.0.1 - - [25/Feb/2023 11:35:19] \"POST /_dash-update-component HTTP/1.1\" 200 -\n"
     ]
    }
   ],
   "source": [
    "if __name__ == '__main__':\n",
    "    app.run_server()"
   ]
  }
 ],
 "metadata": {
  "kernelspec": {
   "display_name": "Python 3 (ipykernel)",
   "language": "python",
   "name": "python3"
  },
  "language_info": {
   "codemirror_mode": {
    "name": "ipython",
    "version": 3
   },
   "file_extension": ".py",
   "mimetype": "text/x-python",
   "name": "python",
   "nbconvert_exporter": "python",
   "pygments_lexer": "ipython3",
   "version": "3.9.12"
  }
 },
 "nbformat": 4,
 "nbformat_minor": 5
}
